{
  "nbformat": 4,
  "nbformat_minor": 0,
  "metadata": {
    "colab": {
      "provenance": [],
      "gpuType": "T4"
    },
    "kernelspec": {
      "name": "python3",
      "display_name": "Python 3"
    },
    "language_info": {
      "name": "python"
    },
    "accelerator": "GPU"
  },
  "cells": [
    {
      "cell_type": "markdown",
      "source": [
        "Run cells 1-5 to set up and train the model."
      ],
      "metadata": {
        "id": "Vxz-lohYea1m"
      }
    },
    {
      "cell_type": "code",
      "execution_count": null,
      "metadata": {
        "id": "P_xBmUvDctsk"
      },
      "outputs": [],
      "source": [
        "# 1. Colab-specific Setup\n",
        "! [ -e /content ] && pip install -Uqq fastbook   # This line:\n",
        "                                                 # - Checks if running in Colab ([ -e /content ])\n",
        "                                                 # - If true, installs/updates fastbook quietly (-Uqq flag)\n",
        "                                                 # - Only runs in Colab; not needed locally\n",
        "\n",
        "import fastbook                                  # Imports the fastbook library\n",
        "fastbook.setup_book()                           # Sets up notebook environment for fastai\n",
        "                                                # (configures paths, display settings, etc.)\n"
      ]
    },
    {
      "cell_type": "code",
      "source": [
        "# 2. Main Imports\n",
        "from fastbook import *\n",
        "from fastai.vision.all import *"
      ],
      "metadata": {
        "id": "2ypJFQipdPAS"
      },
      "execution_count": null,
      "outputs": []
    },
    {
      "cell_type": "code",
      "source": [
        "# 3. Data Setup\n",
        "path = untar_data(URLs.PETS)/'images'\n",
        "def is_cat(x): return x[0].isupper()"
      ],
      "metadata": {
        "id": "Uws16YjgdZGs"
      },
      "execution_count": null,
      "outputs": []
    },
    {
      "cell_type": "code",
      "source": [
        "# 4. Data Loading\n",
        "dls = ImageDataLoaders.from_name_func(\n",
        "    path, get_image_files(path), valid_pct=0.2, seed=42,\n",
        "    label_func=is_cat, item_tfms=Resize(224))"
      ],
      "metadata": {
        "id": "g53mtTE5d22y"
      },
      "execution_count": null,
      "outputs": []
    },
    {
      "cell_type": "code",
      "source": [
        "# 5. Model Creation & Training\n",
        "learn = vision_learner(dls, resnet34, metrics=error_rate)\n",
        "learn.fine_tune(1)"
      ],
      "metadata": {
        "id": "4a_MVTKxtxrl"
      },
      "execution_count": null,
      "outputs": []
    },
    {
      "cell_type": "markdown",
      "source": [
        "Run cell 6 and use the upload button to select your image."
      ],
      "metadata": {
        "id": "incds8frt0tK"
      }
    },
    {
      "cell_type": "code",
      "source": [
        "# 6. File Upload (separate cell)\n",
        "uploader = widgets.FileUpload()\n",
        "uploader"
      ],
      "metadata": {
        "id": "towHdJ9ct136"
      },
      "execution_count": null,
      "outputs": []
    },
    {
      "cell_type": "markdown",
      "source": [
        "Once the image is uploaded, run cell 7 to see the prediction."
      ],
      "metadata": {
        "id": "xHsCxSajuSwV"
      }
    },
    {
      "cell_type": "code",
      "source": [
        "# 7. Prediction (separate cell)\n",
        "img = PILImage.create(uploader.data[0])\n",
        "is_cat,_,probs = learn.predict(img)\n",
        "print(f\"Is this a cat?: {is_cat}.\")\n",
        "print(f\"Probability it's a cat: {probs[1].item():.6f}\")"
      ],
      "metadata": {
        "id": "mymuliCvuXgv"
      },
      "execution_count": null,
      "outputs": []
    }
  ]
}
